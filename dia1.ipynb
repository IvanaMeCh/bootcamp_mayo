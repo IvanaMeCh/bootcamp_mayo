{
 "cells": [
  {
   "cell_type": "code",
   "execution_count": null,
   "metadata": {},
   "outputs": [],
   "source": []
  },
  {
   "attachments": {},
   "cell_type": "markdown",
   "metadata": {},
   "source": [
    "### hola que tal, soy un bloque de texto que te permite escribir con tranquilidad sin crear conflicto "
   ]
  },
  {
   "cell_type": "code",
   "execution_count": 2,
   "metadata": {},
   "outputs": [
    {
     "ename": "NameError",
     "evalue": "name 'saluda' is not defined",
     "output_type": "error",
     "traceback": [
      "\u001b[0;31m---------------------------------------------------------------------------\u001b[0m",
      "\u001b[0;31mNameError\u001b[0m                                 Traceback (most recent call last)",
      "Cell \u001b[0;32mIn [2], line 1\u001b[0m\n\u001b[0;32m----> 1\u001b[0m saluda\n",
      "\u001b[0;31mNameError\u001b[0m: name 'saluda' is not defined"
     ]
    }
   ],
   "source": [
    "saluda"
   ]
  },
  {
   "cell_type": "code",
   "execution_count": 8,
   "metadata": {},
   "outputs": [
    {
     "name": "stdout",
     "output_type": "stream",
     "text": [
      "hola mundo\n",
      "holaaaaaaaa\n"
     ]
    }
   ],
   "source": [
    "print(\"hola mundo\")\n",
    "print(\"holaaaaaaaa\")"
   ]
  },
  {
   "attachments": {},
   "cell_type": "markdown",
   "metadata": {},
   "source": [
    "# 📦 Variables"
   ]
  },
  {
   "cell_type": "code",
   "execution_count": 18,
   "metadata": {},
   "outputs": [
    {
     "name": "stdout",
     "output_type": "stream",
     "text": [
      "Maga\n",
      "25\n",
      "plato\n",
      "tupper\n"
     ]
    }
   ],
   "source": [
    "nombre = \"Maga\"\n",
    "edad = 25\n",
    "print(nombre)\n",
    "print(edad)\n",
    "\n",
    "microondas = \"plato\"\n",
    "print(microondas)\n",
    "\n",
    "print(\"tupper\")"
   ]
  },
  {
   "attachments": {},
   "cell_type": "markdown",
   "metadata": {},
   "source": [
    "## 🔢 Orden de ejecucion"
   ]
  },
  {
   "cell_type": "code",
   "execution_count": 29,
   "metadata": {},
   "outputs": [
    {
     "name": "stdout",
     "output_type": "stream",
     "text": [
      "mango\n",
      "5\n",
      "manzana\n",
      "kiwi\n",
      "10\n"
     ]
    }
   ],
   "source": [
    "fruta = \"mango\" # esto es una variable donde guardamos la palabra mango\n",
    "print(fruta)\n",
    "cantidad_de_frutas = 5\n",
    "print(cantidad_de_frutas)\n",
    "\n",
    "fruta = \"manzana\"\n",
    "print(fruta)\n",
    "\n",
    "fruta = \"kiwi\"\n",
    "print(fruta)\n",
    "\n",
    "cantidad_de_frutas = 10\n",
    "print(cantidad_de_frutas)\n"
   ]
  },
  {
   "attachments": {},
   "cell_type": "markdown",
   "metadata": {},
   "source": [
    "# Tipo de datos"
   ]
  },
  {
   "cell_type": "code",
   "execution_count": null,
   "metadata": {},
   "outputs": [],
   "source": [
    "cantidad_de_frutas = 12 # Numero entero -> integer -> int\n",
    "peso = 80.3 # Numero decimal -> floating number -> float \n",
    "producto = \"gaseosa\" #texto -> stings -> str\n",
    "esta_abierta_la_puerta = False #Boolean -> bool "
   ]
  },
  {
   "attachments": {},
   "cell_type": "markdown",
   "metadata": {},
   "source": [
    "# 1️⃣➕2️⃣ Operaciones aritmeticas "
   ]
  },
  {
   "cell_type": "code",
   "execution_count": 41,
   "metadata": {},
   "outputs": [
    {
     "name": "stdout",
     "output_type": "stream",
     "text": [
      "19200\n",
      "16200\n",
      "20000\n",
      "9600.0\n",
      "hola\n",
      "9.0\n",
      "4\n"
     ]
    }
   ],
   "source": [
    "#suma\n",
    "precio_total = 7000 + 12000 + 200\n",
    "print(precio_total)\n",
    "\n",
    "#resta\n",
    "total_con_descuento = precio_total - 3000\n",
    "print(total_con_descuento)\n",
    "\n",
    "#multipliacion\n",
    "precio_gaseosa = 10000\n",
    "cantidad_de_gaseosas = 2\n",
    "total_a_pagar = precio_gaseosa * cantidad_de_gaseosas\n",
    "print(total_a_pagar)\n",
    "\n",
    "# Division\n",
    "cantidad_de_personas = 2\n",
    "vaquita = precio_total / cantidad_de_personas\n",
    "print(vaquita)\n",
    "\n",
    "# obs: python obedece a las reglas matematicas\n",
    "print(\"hola\")\n",
    "print( 2 * 2 + 12/2 - 1)\n",
    "print(cantidad_de_gaseosas + 2)"
   ]
  },
  {
   "attachments": {},
   "cell_type": "markdown",
   "metadata": {},
   "source": [
    "## Challenge 🤺 - 15m\n",
    "\n",
    "Suma: asignar dos números en dos variables diferentes `cantidad_de_manzanas` y `cantidad_de_naranjas`. Luego sumar ambas variables en `cantidad_de_frutas`. Imprimir la última variable.\n",
    "\n",
    "Resta: asignar un valor numérico a la variable `frutas_vendidas`. Luego, asignar la resta entre `cantidad_de_frutas` y `frutas_vendidas` a la variable `frutas_restantes`. Imprimir la última variable."
   ]
  },
  {
   "cell_type": "code",
   "execution_count": 42,
   "metadata": {},
   "outputs": [
    {
     "name": "stdout",
     "output_type": "stream",
     "text": [
      "hola mundo\n"
     ]
    }
   ],
   "source": [
    "print(\"hola mundo\")"
   ]
  },
  {
   "attachments": {},
   "cell_type": "markdown",
   "metadata": {},
   "source": [
    "## solucion de Ana 😎"
   ]
  },
  {
   "cell_type": "code",
   "execution_count": 43,
   "metadata": {},
   "outputs": [
    {
     "name": "stdout",
     "output_type": "stream",
     "text": [
      "10\n",
      "-20\n",
      "20\n"
     ]
    }
   ],
   "source": [
    "cantidad_de_manzanas = 5\n",
    "cantidad_de_naranjas = 5\n",
    "cantidad_de_frutas = cantidad_de_manzanas + cantidad_de_naranjas\n",
    "print(cantidad_de_frutas)#\n",
    "\n",
    "#resta\n",
    "frutas_vendidas = 20  #prestar atencion a las palabras\n",
    "cantidad_de_frutas = 40\n",
    "frutas_restantes = frutas_vendidas - cantidad_de_frutas\n",
    "print(frutas_restantes)#atender el orden de las variables\n",
    "\n",
    "#repetir la operacion\n",
    "cantidad_de_frutas = 40\n",
    "frutas_vendidas = 20\n",
    "frutas_restantes = cantidad_de_frutas - frutas_vendidas\n",
    "print(frutas_restantes)"
   ]
  },
  {
   "attachments": {},
   "cell_type": "markdown",
   "metadata": {},
   "source": [
    "# Jugando con textos"
   ]
  },
  {
   "cell_type": "code",
   "execution_count": 65,
   "metadata": {},
   "outputs": [
    {
     "name": "stdout",
     "output_type": "stream",
     "text": [
      "Lujan\n",
      "LujanAranda\n",
      "Lujan Aranda\n",
      "hola, mi nombre es Lujan Aranda\n",
      "hola, mi nombre es Lujan Aranda mi edad es 19\n",
      "hola, mi nombre es Lujan Aranda mi edad es 19\n",
      " hola mi nombre es Lujan y mi apellido es Aranda, mi edad es 45 anhos, mi peso es 4\n"
     ]
    }
   ],
   "source": [
    "nombre = 'Lujan'\n",
    "apellido = \"Aranda\"\n",
    "edad = 19\n",
    "print(nombre)\n",
    "\n",
    "nombre_completo = nombre + apellido\n",
    "print(nombre_completo)\n",
    "\n",
    "print(nombre +\" \"+apellido)\n",
    "\n",
    "print(\"hola, mi nombre es \"+ nombre + \" \"+ apellido)\n",
    "print(\"hola, mi nombre es \"+ nombre + \" \"+ apellido +\" mi edad es \" +str(edad) )\n",
    "\n",
    "edad = '19'\n",
    "print(\"hola, mi nombre es \"+ nombre + \" \"+ apellido +\" mi edad es \"+edad)\n",
    "\n",
    "edad = 45\n",
    "peso = 4\n",
    "print(f\" hola mi nombre es {nombre} y mi apellido es {apellido}, mi edad es {edad} anhos, mi peso es {peso}\")\n"
   ]
  },
  {
   "attachments": {},
   "cell_type": "markdown",
   "metadata": {},
   "source": [
    "## Challenge 🤺 - 15m\n",
    "\n",
    "Asignar el nombre y el apellido de tu compañera/o a las variables nombre y apellido. Luego, imprimir una frase, utilizando las variables.\n",
    "EJEMPLO: \"Hola. Me llamo Sergio Blanco. Mucho gusto.\"\\\n",
    "nombre = \"Sergio\"\\\n",
    "apellido = \"Blanco\"\\\n",
    "Podemos sumar textos + variables del mismo tipo\\\n",
    "print(f\"Hola. Mi nombre es {nombre} {apellido}, Mucho gusto.\")"
   ]
  },
  {
   "attachments": {},
   "cell_type": "markdown",
   "metadata": {},
   "source": [
    "## solucion de Pao 🐽"
   ]
  },
  {
   "cell_type": "code",
   "execution_count": 66,
   "metadata": {},
   "outputs": [
    {
     "name": "stdout",
     "output_type": "stream",
     "text": [
      "Hola. Me llamo Claudia Achucarro, Mucho gusto.\n"
     ]
    }
   ],
   "source": [
    "nombre = \"Claudia\"\n",
    "apellido = \"Achucarro\"\n",
    "# la f es de format\n",
    "print(f\"Hola. Me llamo {nombre} {apellido}, Mucho gusto.\")"
   ]
  },
  {
   "attachments": {},
   "cell_type": "markdown",
   "metadata": {},
   "source": [
    "## Challenge 🤺 - 15m\n",
    "\n",
    "Crear un app Vaquita donde para llegar a eso debemos:\n",
    "- Declarar el monto total a pagar\n",
    "- Declarar la cantidad de personas\n",
    " \n",
    "Al final, imprimir el monto que debe pagar cada persona de la siguiente forma:\n",
    "\"El monto a pagar es de 10000 guaranies. Cada persona debe pagar 2000 guaranies.\""
   ]
  },
  {
   "attachments": {},
   "cell_type": "markdown",
   "metadata": {},
   "source": [
    "## solucion de Gabi 💕"
   ]
  },
  {
   "cell_type": "code",
   "execution_count": 67,
   "metadata": {},
   "outputs": [
    {
     "name": "stdout",
     "output_type": "stream",
     "text": [
      "el monto a pagar es de 10000 guaranies. Cada persona debe pagar 2000.0\n"
     ]
    }
   ],
   "source": [
    "monto_a_pagar = 10000 \n",
    "cantidad_de_personas = 5\n",
    "resultado = monto_a_pagar / cantidad_de_personas\n",
    "print(f\"el monto a pagar es de {monto_a_pagar} guaranies. Cada persona debe pagar {resultado}\")"
   ]
  },
  {
   "attachments": {},
   "cell_type": "markdown",
   "metadata": {},
   "source": [
    "# obteniendo datos del usuario"
   ]
  },
  {
   "cell_type": "code",
   "execution_count": 73,
   "metadata": {},
   "outputs": [
    {
     "name": "stdout",
     "output_type": "stream",
     "text": [
      "galletita\n",
      "hojas\n",
      "el producto que eligio es hojas\n"
     ]
    }
   ],
   "source": [
    "# solicitar el producto\n",
    "#print(\"hola que tal\")\n",
    "un_producto = \"galletita\"\n",
    "print(un_producto)\n",
    "un_producto = input(\"Que producto desea comprar?\")\n",
    "print(un_producto)\n",
    "\n",
    "print(f\"el producto que eligio es {un_producto}\")\n"
   ]
  },
  {
   "attachments": {},
   "cell_type": "markdown",
   "metadata": {},
   "source": [
    "## tipos de variables y como identificar"
   ]
  },
  {
   "cell_type": "code",
   "execution_count": 77,
   "metadata": {},
   "outputs": [
    {
     "name": "stdout",
     "output_type": "stream",
     "text": [
      "<class 'int'>\n",
      "<class 'str'>\n",
      "<class 'str'>\n",
      "<class 'str'>\n"
     ]
    }
   ],
   "source": [
    "numero = 34\n",
    "print(type(numero))\n",
    "\n",
    "fruta = \"melon\"\n",
    "print(type(fruta))\n",
    "\n",
    "un_producto = input(\"Que producto desea comprar?\") # este dato cargado siempre es un string o siempre es un texto\n",
    "print(type(un_producto))\n",
    "\n",
    "numero = input(\"elegi el numero\") #siempre devuelve un string (un texto)\n",
    "print(type(numero))"
   ]
  },
  {
   "cell_type": "code",
   "execution_count": 81,
   "metadata": {},
   "outputs": [
    {
     "name": "stdout",
     "output_type": "stream",
     "text": [
      "23\n",
      "5\n",
      "<class 'int'>\n"
     ]
    }
   ],
   "source": [
    "numero1 = input(\"ingrese el numero 1\")\n",
    "numero2 = input(\"ingrese el numero 2\")\n",
    "suma = numero1 + numero2\n",
    "print(suma)\n",
    "\n",
    "# int(numero1) hace que el dato sea de tipo entero\n",
    "suma_real = int(numero1) + int(numero2)\n",
    "print(suma_real)\n",
    "print(type(suma_real))"
   ]
  },
  {
   "attachments": {},
   "cell_type": "markdown",
   "metadata": {},
   "source": [
    "### Challenge 🤺 - 15m\n",
    "\n",
    "Solicitar al usuario ingresar dos productos y almacenar sus precios y cantidades. Luego, imprimir el precio a pagar de cada producto.\n",
    "\n",
    "Sugerencia: convertir los precios a números enteros antes de sumarlos.\n",
    "\n",
    "Ejemplo resultado:\n",
    "- Los panes alcanzan: 12000\n",
    "- Los chocolates alcanzan: 23000"
   ]
  },
  {
   "attachments": {},
   "cell_type": "markdown",
   "metadata": {},
   "source": [
    "## Solucion de Maga 🧙‍♀️"
   ]
  },
  {
   "cell_type": "code",
   "execution_count": 83,
   "metadata": {},
   "outputs": [
    {
     "name": "stdout",
     "output_type": "stream",
     "text": [
      "el galletita alcanza 12000 guaranies\n",
      "los mango alcanzan 12000 guaranies\n"
     ]
    }
   ],
   "source": [
    "producto_1_nombre = (input (\"ingrese el nombre del primer producto\"))\n",
    "producto_1_precio = int (input (\"ingrese el precio del primer producto\"))\n",
    "producto_1_cantidad = int (input (\"ingrese la cantidad del primer producto\"))\n",
    "total_producto_1 = (producto_1_precio*producto_1_cantidad)\n",
    "print (f\"el {producto_1_nombre} alcanza {total_producto_1} guaranies\")\n",
    "\n",
    "producto_2_nombre = (input (\"ingrese el nombre del segundo producto\"))\n",
    "producto_2_precio = int (input (\"ingrese el precio del segundo producto\"))\n",
    "producto_2_cantidad = int (input (\"ingrese la cantidad del segundo producto\"))\n",
    "total_producto_2 = (producto_2_precio*producto_2_cantidad)\n",
    "print (f\"los {producto_2_nombre} alcanzan {total_producto_2} guaranies\")"
   ]
  }
 ],
 "metadata": {
  "kernelspec": {
   "display_name": "Python 3",
   "language": "python",
   "name": "python3"
  },
  "language_info": {
   "codemirror_mode": {
    "name": "ipython",
    "version": 3
   },
   "file_extension": ".py",
   "mimetype": "text/x-python",
   "name": "python",
   "nbconvert_exporter": "python",
   "pygments_lexer": "ipython3",
   "version": "3.10.6"
  },
  "orig_nbformat": 4,
  "vscode": {
   "interpreter": {
    "hash": "916dbcbb3f70747c44a77c7bcd40155683ae19c65e1c03b4aa3499c5328201f1"
   }
  }
 },
 "nbformat": 4,
 "nbformat_minor": 2
}
