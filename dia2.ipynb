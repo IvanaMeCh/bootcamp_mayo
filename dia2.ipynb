{
 "cells": [
  {
   "attachments": {},
   "cell_type": "markdown",
   "metadata": {},
   "source": [
    "# Funciones"
   ]
  },
  {
   "cell_type": "code",
   "execution_count": null,
   "metadata": {},
   "outputs": [],
   "source": [
    "def monto_producto():\n",
    "    #la indentacion es lo que le indica a python que estan los pasos de abajo dentro de la funcion\n",
    "    producto_nombre = (input (\"ingrese el nombre del primer producto\"))\n",
    "    producto_precio = int (input (\"ingrese el precio del primer producto\"))\n",
    "    producto_cantidad = int (input (\"ingrese la cantidad del primer producto\"))\n",
    "    total_producto_1 = (producto_precio*producto_cantidad)\n",
    "    print (f\"el {producto_nombre} alcanza {total_producto_1} guaranies\")\n",
    "monto_producto() #producto 1\n",
    "monto_producto() #producto 2\n",
    "monto_producto() #producto 3\n"
   ]
  },
  {
   "cell_type": "code",
   "execution_count": 6,
   "metadata": {},
   "outputs": [
    {
     "name": "stdout",
     "output_type": "stream",
     "text": [
      " estudiante gabriela guevara agregado a la lista\n"
     ]
    }
   ],
   "source": [
    "def agregar_estudiante():\n",
    "    nombre = input(\"ingrese el nombre del estudiante\")\n",
    "    apellido = input(\"ingrese el apellido:\")\n",
    "    print(f\" estudiante {nombre} {apellido} agregado a la lista\")\n",
    "agregar_estudiante()\n"
   ]
  },
  {
   "attachments": {},
   "cell_type": "markdown",
   "metadata": {},
   "source": [
    "## Challenge 🤺 - 15m\n",
    "\n",
    "Crear una función para su presupuesto mensual y que imprima cuanto dinero les sobra.\n",
    "Ejecutar la función 3 veces.\n",
    "Ejemplo:\\\n",
    "presupuesto mensual = 450000\\\n",
    "gastos mensuales = 150000\\\n",
    "dinero sobrante = presupuesto mensual - gastos mensuales"
   ]
  },
  {
   "attachments": {},
   "cell_type": "markdown",
   "metadata": {},
   "source": [
    "## solucion de Monse 💜"
   ]
  },
  {
   "cell_type": "code",
   "execution_count": 9,
   "metadata": {},
   "outputs": [
    {
     "name": "stdout",
     "output_type": "stream",
     "text": [
      "El presupueto mensual es:190\n",
      "El presupueto mensual es:160\n",
      "El presupueto mensual es:250\n"
     ]
    }
   ],
   "source": [
    "def presupuesto():\n",
    "    presupueto_mensual=int (input(\"Ingrese el presupueto mensual:\"))\n",
    "    gastos_mensuales= int(input(\"Ingrese el gasto mensual:\"))\n",
    "    dinero_sobrante= presupueto_mensual-gastos_mensuales\n",
    "    print (f\"El presupueto mensual es:{dinero_sobrante}\") \n",
    "\n",
    "presupuesto()\n",
    "presupuesto()\n",
    "presupuesto()"
   ]
  },
  {
   "cell_type": "code",
   "execution_count": null,
   "metadata": {},
   "outputs": [],
   "source": [
    "def agregar_estudiante():\n",
    "    nombre = input(\"ingrese el nombre del estudiante\")\n",
    "    apellido = input(\"ingrese el apellido:\")\n",
    "    print(f\" estudiante {nombre} {apellido} agregado a la lista\")\n",
    "agregar_estudiante()"
   ]
  },
  {
   "cell_type": "code",
   "execution_count": 16,
   "metadata": {},
   "outputs": [
    {
     "name": "stdout",
     "output_type": "stream",
     "text": [
      "el estudiante cantero Tamara de 29 anhos fue agregado a la lista\n"
     ]
    }
   ],
   "source": [
    "def agregar_estudiantes (nombre,apellido,edad):\n",
    "    print(f\"el estudiante {nombre} {apellido} de {edad} anhos fue agregado a la lista\")\n",
    "agregar_estudiantes(\"Tamara\",\"Cantero\",29)"
   ]
  },
  {
   "attachments": {},
   "cell_type": "markdown",
   "metadata": {},
   "source": [
    "## Challenge 🤺 - 15m\n",
    "\n",
    "Dada la función que acabamos de crear, definir un parametro mas del dato del estudiante que quiera agregar."
   ]
  },
  {
   "cell_type": "code",
   "execution_count": 19,
   "metadata": {},
   "outputs": [
    {
     "name": "stdout",
     "output_type": "stream",
     "text": [
      " El estudiante Maria Gonzalez de 28 anhos residente en ciudad del este fue agregado a la lista\n"
     ]
    }
   ],
   "source": [
    "def agregar_estudiante (nombre,apellido,edad,ciudad):\n",
    "    print (f' El estudiante {nombre} {apellido} de {edad} anhos residente en {ciudad} fue agregado a la lista')\n",
    "agregar_estudiante ('Maria','Gonzalez','28','ciudad del este')"
   ]
  },
  {
   "attachments": {},
   "cell_type": "markdown",
   "metadata": {},
   "source": [
    "# 🆚 Función personalizada vs función built-in"
   ]
  },
  {
   "cell_type": "code",
   "execution_count": null,
   "metadata": {},
   "outputs": [],
   "source": [
    "print() # funcion propia de python , built-in\n",
    "input() # funcion built-in\n",
    "agregar_estudiante() #funcion personalizada osea creada por nosotras\n",
    "presupuesto() #funcion personalizada osea creada por nosotras"
   ]
  },
  {
   "attachments": {},
   "cell_type": "markdown",
   "metadata": {},
   "source": [
    "## 🖐️ Alcance (Scope)"
   ]
  },
  {
   "cell_type": "code",
   "execution_count": 9,
   "metadata": {},
   "outputs": [
    {
     "name": "stdout",
     "output_type": "stream",
     "text": [
      " la edad del participante es : 27 anhos\n",
      "26\n"
     ]
    }
   ],
   "source": [
    "edad = 26 #variable global\n",
    "\n",
    "def cambiar_edad():\n",
    "    edad = 27 # variable local, osea es una edad dentro de esta funcion, edad local\n",
    "    print(f\" la edad del participante es : {edad} anhos\")\n",
    "cambiar_edad()\n",
    "\n",
    "print(edad)\n",
    "\n"
   ]
  },
  {
   "attachments": {},
   "cell_type": "markdown",
   "metadata": {},
   "source": [
    "## Challenge 🤺 - 15m\n",
    "Crear una función \"calculadora\" que reciba como parametro dos numeros y que realize operaciones con ellos (suma, resta, multiplicacion) e imprima sus resultados en un mensaje. \n",
    "- Ejemplo: print(f\"la suma es {resultado_suma}, la resta es {resultado_resta} y su multiplicacion {resultado_multiplicacion} \")"
   ]
  },
  {
   "cell_type": "code",
   "execution_count": 30,
   "metadata": {},
   "outputs": [
    {
     "name": "stdout",
     "output_type": "stream",
     "text": [
      " la suma es 22, la resta es 8 y la multiplicacion es 105\n"
     ]
    }
   ],
   "source": [
    "def calculadora (numero1, numero2):\n",
    "    resultado_suma = numero1 + numero2\n",
    "    resultado_resta = numero1 - numero2\n",
    "    resultado_multiplicacion = numero1 * numero2\n",
    "    print(f\" la suma es {resultado_suma}, la resta es {resultado_resta} y la multiplicacion es {resultado_multiplicacion}\")\n",
    "\n",
    "calculadora(15,7)\n"
   ]
  },
  {
   "attachments": {},
   "cell_type": "markdown",
   "metadata": {},
   "source": [
    "# Operadores de relacion y su interpretacion \n",
    "✅ menor que < \n",
    "\n",
    "✅ menor e igual que <= \n",
    "\n",
    "✅ mayor que > \n",
    "\n",
    "✅ mayor e igual que >= \n",
    "\n",
    "✅ == igual\n",
    "\n",
    "✅ != diferente\n"
   ]
  },
  {
   "attachments": {},
   "cell_type": "markdown",
   "metadata": {},
   "source": [
    "# Condicionales "
   ]
  },
  {
   "attachments": {},
   "cell_type": "markdown",
   "metadata": {},
   "source": [
    "sentencia if -> si \n",
    "sentencia elif -> sino si \n",
    "sentencia else -> sino "
   ]
  },
  {
   "cell_type": "code",
   "execution_count": 33,
   "metadata": {},
   "outputs": [
    {
     "name": "stdout",
     "output_type": "stream",
     "text": [
      "ingresaste\n"
     ]
    }
   ],
   "source": [
    "contrasenha = int(input(\"ingrese una contrasenha\"))\n",
    "if contrasenha == 1234:\n",
    "    print(\"ingresaste\")\n",
    "else:\n",
    "    print(\"contrasenha incorrecta\")"
   ]
  },
  {
   "cell_type": "code",
   "execution_count": 39,
   "metadata": {},
   "outputs": [
    {
     "name": "stdout",
     "output_type": "stream",
     "text": [
      "diario popular lo que podes leer :( \n",
      "gracias por tu compra\n"
     ]
    }
   ],
   "source": [
    "plata = 1\n",
    "\n",
    "if plata >= 100000:\n",
    "    print(\"podes comprar el libro principito\")\n",
    "else: \n",
    "    print(\"diario popular lo que podes leer :( \")\n",
    "\n",
    "print(\"gracias por tu compra\")"
   ]
  },
  {
   "attachments": {},
   "cell_type": "markdown",
   "metadata": {},
   "source": [
    "# Que pasa si tengo mas de una condicion "
   ]
  },
  {
   "cell_type": "code",
   "execution_count": 46,
   "metadata": {},
   "outputs": [
    {
     "name": "stdout",
     "output_type": "stream",
     "text": [
      " podes comprar harry potter usado ami\n"
     ]
    }
   ],
   "source": [
    "plata = 200000\n",
    "edad = 12\n",
    "if plata >= 180000 and edad >= 18:\n",
    "    print(\"podes comprar tu libro de 50 sombras usado\")\n",
    "elif plata >=180000 and edad <=18:\n",
    "    print(\" podes comprar harry potter usado ami\")\n",
    "else:\n",
    "    print( \"estas muy sogue ami\")"
   ]
  },
  {
   "attachments": {},
   "cell_type": "markdown",
   "metadata": {},
   "source": [
    "## condicionales dentro de una funcion "
   ]
  },
  {
   "cell_type": "code",
   "execution_count": 51,
   "metadata": {},
   "outputs": [
    {
     "name": "stdout",
     "output_type": "stream",
     "text": [
      "Vago o Estudiante sin laburo\n",
      "Estudiante menor de edad\n",
      "jubilado o vago\n",
      "Activo laboralmente\n"
     ]
    }
   ],
   "source": [
    "def chequear_edad(edad, trabaja):\n",
    "    if edad <18:\n",
    "        print(\"Estudiante menor de edad\")\n",
    "    elif edad < 65 and trabaja == True:\n",
    "        print(\"Activo laboralmente\")\n",
    "    elif edad <65 and trabaja == False:\n",
    "        print('Vago o Estudiante sin laburo')\n",
    "    else:\n",
    "        print(\"jubilado o vago\")\n",
    "\n",
    "chequear_edad(23, False)\n",
    "chequear_edad(15, False)\n",
    "chequear_edad(84, False)\n",
    "chequear_edad(25, True)"
   ]
  },
  {
   "attachments": {},
   "cell_type": "markdown",
   "metadata": {},
   "source": [
    "### Challenge 1 🤺 - 15m\n",
    "\n",
    "Escribir un programa en el que se pregunte al usuario por una temperatura (en grados Celsius), imprima la temperatura escrita, y luego clasificar la temperatura ingresada en los siguientes niveles:\n",
    "\n",
    "Entre -10 y 18 grados, que imprima \"Fresquete\".\n",
    "Entre 19 y 30 grados, que imprima \"Calor'i\".\n",
    "Entre 31 y 45 grados, que imprima \"Hakuuuuuu\".\n",
    "Para todo lo demás, imprimir \"Ñamano mba'e!\".\n",
    "\n",
    "Tips:\n",
    "- Pueden haber tantos elif como lo necesites\n",
    "- mayor o igual >=\n",
    "- menor o igual <="
   ]
  },
  {
   "cell_type": "code",
   "execution_count": 68,
   "metadata": {},
   "outputs": [
    {
     "name": "stdout",
     "output_type": "stream",
     "text": [
      "La temperatura es 11.0 C\n",
      "Fresquete\n",
      "gracias por cargar\n"
     ]
    }
   ],
   "source": [
    "temperatura = float(input(\"Ingrese la temperatura\"))\n",
    "print(f\"La temperatura es {temperatura} C\")\n",
    "\n",
    "\n",
    "if temperatura >= -10 and temperatura <= 18: \n",
    "    print(\"Fresquete\")\n",
    "elif temperatura > 18 and temperatura <= 30:\n",
    "    print(\"Calor'i\")\n",
    "elif temperatura > 30 and temperatura <= 45:\n",
    "     print(\"Hakuuuuu\")\n",
    "else:\n",
    "    print(\"Namano mba'e\")\n"
   ]
  },
  {
   "attachments": {},
   "cell_type": "markdown",
   "metadata": {},
   "source": [
    "# bucles condicionales 🔄"
   ]
  },
  {
   "cell_type": "code",
   "execution_count": 60,
   "metadata": {},
   "outputs": [
    {
     "name": "stdout",
     "output_type": "stream",
     "text": [
      "0\n"
     ]
    }
   ],
   "source": [
    "#while es mientras \n",
    "numero = 5\n",
    "while numero !=0:\n",
    "    numero = int(input('introduce un numero'))\n",
    "    print(numero)"
   ]
  },
  {
   "cell_type": "code",
   "execution_count": 62,
   "metadata": {},
   "outputs": [
    {
     "name": "stdout",
     "output_type": "stream",
     "text": [
      "probaste una vez\n",
      "probaste una vez\n",
      "probaste una vez\n",
      "tarjeta bloqueada\n"
     ]
    }
   ],
   "source": [
    "contador_de_veces = 0 \n",
    "while True:\n",
    "    contador_de_veces = contador_de_veces + 1\n",
    "    print('probaste una vez')\n",
    "    if contador_de_veces == 3:\n",
    "        print(\"tarjeta bloqueada\")\n",
    "        break\n",
    "\n"
   ]
  },
  {
   "cell_type": "code",
   "execution_count": 66,
   "metadata": {},
   "outputs": [
    {
     "name": "stdout",
     "output_type": "stream",
     "text": [
      "incorrecto decime lq me gusta\n",
      "incorrecto decime lq me gusta\n",
      "incorrecto decime lq me gusta\n",
      "pasa tonc\n"
     ]
    }
   ],
   "source": [
    "palabra_magica_de_iva = \"por favor\"\n",
    "palabra_achu = \" dejame pasar (cara nojao)\"\n",
    "\n",
    "while palabra_achu != palabra_magica_de_iva:\n",
    "    print(\"incorrecto decime lq me gusta\")\n",
    "    palabra_achu = input(\"ingresar de vuelta la palabra magica\")\n",
    "\n",
    "print(\"pasa tonc\")"
   ]
  },
  {
   "attachments": {},
   "cell_type": "markdown",
   "metadata": {},
   "source": [
    "### Challenge 2 🤺 - 15m\n",
    "Escribir un programa que almacene una contraseña en una variable, y pregunte al usuario por la contraseña hasta que introduzca la contraseña correcta.\n",
    "\n",
    "Cuando el usuario ingrese la contrasena correcta, imprimir un mensaje secreto."
   ]
  },
  {
   "attachments": {},
   "cell_type": "markdown",
   "metadata": {},
   "source": [
    "### opcion1"
   ]
  },
  {
   "cell_type": "code",
   "execution_count": 1,
   "metadata": {},
   "outputs": [
    {
     "name": "stdout",
     "output_type": "stream",
     "text": [
      "acertaste, el mensaje secreto es: viva los salchis\n"
     ]
    }
   ],
   "source": [
    "while True:\n",
    "    contrasenha_correcta = \"salchi123\"\n",
    "    contrasenha_usuario = input(\"ingresa tu contrasenha\")\n",
    "    if contrasenha_correcta == contrasenha_usuario :\n",
    "        print(\"acertaste, el mensaje secreto es: viva los salchis\")\n",
    "        break \n"
   ]
  },
  {
   "attachments": {},
   "cell_type": "markdown",
   "metadata": {},
   "source": [
    "### opcion 2"
   ]
  },
  {
   "cell_type": "code",
   "execution_count": 2,
   "metadata": {},
   "outputs": [
    {
     "name": "stdout",
     "output_type": "stream",
     "text": [
      "fallaste, intenta de vuelta bobi\n",
      "fallaste, intenta de vuelta bobi\n",
      "acertaste, el mensaje secreto es: viva los salchis\n"
     ]
    }
   ],
   "source": [
    "contrasenha_correcta = \"salchi123\"\n",
    "contrasenha_usuario = input(\"ingresa tu contrasenha\")\n",
    "while contrasenha_usuario != contrasenha_correcta:\n",
    "    print(\"fallaste, intenta de vuelta bobi\")\n",
    "    contrasenha_usuario = input(\"ingresa de vuelta tu contrasenha\")\n",
    "\n",
    "print(\"acertaste, el mensaje secreto es: viva los salchis\")"
   ]
  },
  {
   "attachments": {},
   "cell_type": "markdown",
   "metadata": {},
   "source": [
    "# Listas 📏"
   ]
  },
  {
   "cell_type": "code",
   "execution_count": 11,
   "metadata": {},
   "outputs": [
    {
     "name": "stdout",
     "output_type": "stream",
     "text": [
      "manzana\n",
      "pinhas\n",
      "5\n",
      "['naranjas', 'pera', 'manzana', 'kiwis', 'pinhas', 'ciruelas']\n",
      "['naranjas', 'pera', 'manzana', 'kiwis', 'banana', 'ciruelas']\n",
      "['naranjas', 'manzana', 'kiwis', 'banana', 'ciruelas']\n",
      "['naranjas', 'manzana', 'banana', 'ciruelas']\n"
     ]
    }
   ],
   "source": [
    "lista_frutas = [\"naranjas\",\"pera\",\"manzana\",'kiwis','pinhas']\n",
    "lista_bool = [True,False,True,False,False]\n",
    "lista_numeros = [1, 3, 5.7, 28, 123]\n",
    "lista_variada = ['pera',10,False]\n",
    "#Acceso a un elemento de la lista\n",
    "print(lista_frutas[2])\n",
    "print(lista_frutas[4])\n",
    "\n",
    "#contar los elementos de una lista\n",
    "#len cuenta la cantidad de elementos de la lista\n",
    "print(len(lista_frutas))\n",
    "\n",
    "#anhadir elemento al final de la lista\n",
    "lista_frutas.append(\"ciruelas\")\n",
    "print(lista_frutas)\n",
    "\n",
    "#modificar elementos\n",
    "lista_frutas[4] = 'banana'\n",
    "print(lista_frutas)\n",
    "\n",
    "#eliminar elemento especifico por su valor \n",
    "lista_frutas.remove(\"pera\")\n",
    "print(lista_frutas)\n",
    "\n",
    "#eliminar elemento especifico por su posicion\n",
    "lista_frutas.pop(2)\n",
    "print(lista_frutas)"
   ]
  },
  {
   "attachments": {},
   "cell_type": "markdown",
   "metadata": {},
   "source": [
    "### Challenge 3 🤺 - 15m\n",
    "\n",
    "Crear una lista de 5 elementos. Luego, seguir los siguientes pasos.\n",
    "\n",
    "- Agregar un elemento al final de la lista.\n",
    "\n",
    "- Modificar el segundo elemento.\n",
    "\n",
    "- Eliminar el tercer elemento."
   ]
  },
  {
   "cell_type": "code",
   "execution_count": 4,
   "metadata": {},
   "outputs": [
    {
     "name": "stdout",
     "output_type": "stream",
     "text": [
      "['zanahoria', 'leche', 'pan', 'frutas', 'lechuga', 'naranja']\n",
      "['zanahoria', 'cebolla', 'pan', 'frutas', 'lechuga', 'naranja']\n",
      "['zanahoria', 'cebolla', 'frutas', 'lechuga', 'naranja']\n",
      "lechuga\n"
     ]
    }
   ],
   "source": [
    "lista_de_super = [\"zanahoria\",\"leche\",\"pan\",\"frutas\",'lechuga']\n",
    "# agregar un elemento al final de la lista\n",
    "lista_de_super.append('naranja')\n",
    "print(lista_de_super)\n",
    "\n",
    "lista_de_super[1]='cebolla'\n",
    "print(lista_de_super)\n",
    "\n",
    "lista_de_super.pop(2)\n",
    "print(lista_de_super)\n",
    "\n",
    "print(lista_de_super[3])\n"
   ]
  }
 ],
 "metadata": {
  "kernelspec": {
   "display_name": "Python 3",
   "language": "python",
   "name": "python3"
  },
  "language_info": {
   "codemirror_mode": {
    "name": "ipython",
    "version": 3
   },
   "file_extension": ".py",
   "mimetype": "text/x-python",
   "name": "python",
   "nbconvert_exporter": "python",
   "pygments_lexer": "ipython3",
   "version": "3.10.6"
  },
  "orig_nbformat": 4,
  "vscode": {
   "interpreter": {
    "hash": "916dbcbb3f70747c44a77c7bcd40155683ae19c65e1c03b4aa3499c5328201f1"
   }
  }
 },
 "nbformat": 4,
 "nbformat_minor": 2
}
