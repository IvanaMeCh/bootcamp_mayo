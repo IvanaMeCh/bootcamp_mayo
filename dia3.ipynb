{
 "cells": [
  {
   "attachments": {},
   "cell_type": "markdown",
   "metadata": {},
   "source": [
    "# Bucles iterativos (for)"
   ]
  },
  {
   "cell_type": "code",
   "execution_count": 2,
   "metadata": {},
   "outputs": [
    {
     "name": "stdout",
     "output_type": "stream",
     "text": [
      "hola buen dia\n",
      "hola buen dia\n",
      "hola buen dia\n",
      "gracias por saludar\n"
     ]
    }
   ],
   "source": [
    "# imprimimos un mensjaje tres veces porque 3 es el rango en el que le pedimos \n",
    "# in -> en \n",
    "# para este iterador en un rango de 5\n",
    "for iterador in range(3):\n",
    "    print(\"hola buen dia\")\n",
    "\n",
    "\n",
    "print(\"gracias por saludar\")"
   ]
  },
  {
   "cell_type": "code",
   "execution_count": 9,
   "metadata": {},
   "outputs": [
    {
     "name": "stdout",
     "output_type": "stream",
     "text": [
      "0\n",
      "1\n",
      "2\n",
      "3\n",
      "4\n"
     ]
    }
   ],
   "source": [
    "# tambien podemos imprimir numeros en el rango que nosotros acabamos de pedir \n",
    "for iterador in range(5):\n",
    "    print(iterador)\n"
   ]
  },
  {
   "cell_type": "code",
   "execution_count": 3,
   "metadata": {},
   "outputs": [
    {
     "name": "stdout",
     "output_type": "stream",
     "text": [
      "14\n",
      " \n",
      "h\n",
      "o\n",
      "l\n",
      "a\n",
      " \n",
      "p\n",
      "i\n",
      "n\n",
      "g\n",
      "u\n",
      "i\n",
      "n\n",
      "o\n"
     ]
    }
   ],
   "source": [
    "# tambien podemos imprimir las letras de una palabra con este bucle\n",
    "palabra = 'hola pinguino'\n",
    "palabra2 = 'uno'\n",
    "#len sacaba la dimension de la palabra \n",
    "#print(len(palabra))\n",
    "numero_de_letras = len(palabra)\n",
    "print(numero_de_letras)\n",
    "\n",
    "for posicion in range(numero_de_letras):\n",
    "    print(palabra[posicion])"
   ]
  },
  {
   "attachments": {},
   "cell_type": "markdown",
   "metadata": {},
   "source": [
    "### Challenge 4 🤺 - 15m\n",
    "\n",
    "Escribir un programa que itere en un rango de 10 veces. Por cada iteracion multiplicar el iterador por dos e imprimir el resultado.\n",
    "ej:\n",
    "- El resultado de 1 * 2 es 2 \n",
    "- El resultado de 2 * 2 es 4 \n",
    "- El resultado de 3 * 2 es 6\n",
    "- ..."
   ]
  },
  {
   "attachments": {},
   "cell_type": "markdown",
   "metadata": {},
   "source": [
    "# Solucion de Memi "
   ]
  },
  {
   "cell_type": "code",
   "execution_count": 29,
   "metadata": {},
   "outputs": [
    {
     "name": "stdout",
     "output_type": "stream",
     "text": [
      "el resultado es 0\n",
      "el resultado es 2\n",
      "el resultado es 4\n",
      "el resultado es 6\n",
      "el resultado es 8\n",
      "el resultado es 10\n",
      "el resultado es 12\n",
      "el resultado es 14\n",
      "el resultado es 16\n",
      "el resultado es 18\n"
     ]
    }
   ],
   "source": [
    "for iterador in range(10):\n",
    "    multiplicacion = iterador * 2\n",
    "    print(f\"el resultado es {multiplicacion}\")\n",
    "    "
   ]
  },
  {
   "cell_type": "code",
   "execution_count": 32,
   "metadata": {},
   "outputs": [
    {
     "name": "stdout",
     "output_type": "stream",
     "text": [
      "nike\n",
      "adidas\n",
      "puma\n",
      "under armour\n",
      "fila\n"
     ]
    }
   ],
   "source": [
    "lista_marcas = [\"nike\",'adidas','puma','under armour','fila']\n",
    "for marca in lista_marcas:\n",
    "    print(marca)"
   ]
  },
  {
   "attachments": {},
   "cell_type": "markdown",
   "metadata": {},
   "source": [
    "### Challenge 🤺 - 20m\n",
    "\n",
    "lista_marcas = [\"nike\", \"vans\", \"adidas\", \"luomo\", \"dior\", \"gotitas\"]\\\n",
    "Recorrer los elementos de una lista de objetos e imprimir cada marca *__solamente__* si tiene 6 letras o más.\\\n",
    "-dato: len() saca la longitud de una variable"
   ]
  },
  {
   "attachments": {},
   "cell_type": "markdown",
   "metadata": {},
   "source": [
    "# Solucion de Nancy "
   ]
  },
  {
   "cell_type": "code",
   "execution_count": 5,
   "metadata": {},
   "outputs": [
    {
     "name": "stdout",
     "output_type": "stream",
     "text": [
      "lotto\n",
      "dasani\n",
      "dasani\n",
      "umbro\n",
      "adidas\n",
      "adidas\n"
     ]
    }
   ],
   "source": [
    "listas_marcas = [\"lotto\", \"dasani\",\"umbro\",\"adidas\"]\n",
    "for posicion in listas_marcas: \n",
    "    print(posicion)\n",
    "    if len(posicion)>=6:\n",
    "        print (posicion)"
   ]
  },
  {
   "attachments": {},
   "cell_type": "markdown",
   "metadata": {},
   "source": [
    "# Recorrer strings - recorrer textos"
   ]
  },
  {
   "cell_type": "code",
   "execution_count": 35,
   "metadata": {},
   "outputs": [
    {
     "name": "stdout",
     "output_type": "stream",
     "text": [
      "g\n",
      "a\n",
      "t\n",
      "o\n"
     ]
    }
   ],
   "source": [
    "for letra in \"gato\":\n",
    "    print(letra)"
   ]
  },
  {
   "attachments": {},
   "cell_type": "markdown",
   "metadata": {},
   "source": [
    "### Challenge 🤺 - 15m\n",
    "\n",
    "Solicitar al usuario que ingrese una frase y almacenarlo en una variable.\n",
    "\n",
    "Imprimir un mensaje (p.e.: \"Encontré la 'o'\") cada vez que se encuentre una letra \"o\" en la frase ingresada."
   ]
  },
  {
   "cell_type": "code",
   "execution_count": 6,
   "metadata": {},
   "outputs": [
    {
     "name": "stdout",
     "output_type": "stream",
     "text": [
      " la frase es: hola\n",
      "h\n",
      "o\n",
      " encontre una o \n",
      "l\n",
      "a\n"
     ]
    }
   ],
   "source": [
    "# si queremos que el usuario ingrese, usamos input\n",
    "frase = input('ingrese la frase')\n",
    "print(f\" la frase es: {frase}\")\n",
    "for letra in frase:\n",
    "    #print(letra)\n",
    "    if letra == 'o':\n",
    "        print(f' encontre una o ')\n"
   ]
  },
  {
   "attachments": {},
   "cell_type": "markdown",
   "metadata": {},
   "source": [
    "## que vamos a necesitar saber? \n",
    "- variables\n",
    "- tipos de datos\n",
    "- concatenar o usar format\n",
    "- operadores logicos\n",
    "-condicionales\n",
    "- funciones\n",
    "- bucles\n"
   ]
  },
  {
   "attachments": {},
   "cell_type": "markdown",
   "metadata": {},
   "source": [
    "### variables y tipos de datos"
   ]
  },
  {
   "cell_type": "code",
   "execution_count": 23,
   "metadata": {},
   "outputs": [
    {
     "name": "stdout",
     "output_type": "stream",
     "text": [
      "a\n",
      "r\n"
     ]
    }
   ],
   "source": [
    "palabra = \"calor\" #texto -> string -> str\n",
    "segunda_letra = 'a'\n",
    "quinta_letra = 'r'\n",
    "segunda_letra = palabra[1]\n",
    "print(segunda_letra)\n",
    "quinta_letra = palabra[4]\n",
    "print(quinta_letra)\n",
    "\n",
    "numero = 5 # numero entero -> int\n",
    "numero2 = 4.5 #numero floante -> float\n",
    "\n",
    "esta_prendido_el_aire = True # -> bool -> booleanos"
   ]
  },
  {
   "attachments": {},
   "cell_type": "markdown",
   "metadata": {},
   "source": [
    "### concatenacion\n"
   ]
  },
  {
   "cell_type": "code",
   "execution_count": 48,
   "metadata": {},
   "outputs": [
    {
     "name": "stdout",
     "output_type": "stream",
     "text": [
      "la cantidad de pinguinos es 2\n",
      "la cantidad de pinguinos es 2\n"
     ]
    }
   ],
   "source": [
    "cantidad_de_pinguinos = 2\n",
    "animal = \"pinguinos\"\n",
    "#concatenacion\n",
    "mensaje1 = \"la cantidad de \"+ animal + \" es \" + str(cantidad_de_pinguinos)\n",
    "print(mensaje1)\n",
    "\n",
    "# con format\n",
    "mensaje2 = print(f\"la cantidad de {animal} es {cantidad_de_pinguinos}\")\n"
   ]
  },
  {
   "attachments": {},
   "cell_type": "markdown",
   "metadata": {},
   "source": [
    "### operadores logicos"
   ]
  },
  {
   "cell_type": "code",
   "execution_count": 55,
   "metadata": {},
   "outputs": [
    {
     "name": "stdout",
     "output_type": "stream",
     "text": [
      "False\n",
      "False\n",
      "las palabras no coinciden. cambiar la palabra ingresada\n"
     ]
    }
   ],
   "source": [
    "letra1 = 'a'\n",
    "letra2 = 'b'\n",
    "palabra = \"pinguinos\"\n",
    "letras_son_iguales = letra1 == letra2\n",
    "print(letras_son_iguales)\n",
    "\n",
    "# in \n",
    "letras_existe_en_la_palabra = letra2 in palabra\n",
    "print(letras_existe_en_la_palabra)\n",
    "\n",
    "if letras_existe_en_la_palabra:\n",
    "    print(\"la letra existe en la palabra\")\n",
    "else:\n",
    "    print(\"las palabras no coinciden. cambiar la palabra ingresada\")"
   ]
  },
  {
   "cell_type": "code",
   "execution_count": 58,
   "metadata": {},
   "outputs": [
    {
     "name": "stdout",
     "output_type": "stream",
     "text": [
      "hola mundo\n",
      "hola mundo\n"
     ]
    }
   ],
   "source": [
    "def imprimir_saludo():\n",
    "    print(\"hola mundo\")\n",
    "imprimir_saludo()\n",
    "imprimir_saludo()"
   ]
  },
  {
   "attachments": {},
   "cell_type": "markdown",
   "metadata": {},
   "source": [
    "## Challenge  🤺 - 15m\n",
    "\n",
    "Crear una función que imprima la variable palabra."
   ]
  },
  {
   "cell_type": "code",
   "execution_count": 61,
   "metadata": {},
   "outputs": [
    {
     "name": "stdout",
     "output_type": "stream",
     "text": [
      "hola cotorras\n"
     ]
    }
   ],
   "source": [
    "def imprimir_palabra():\n",
    "    palabra = \"hola cotorras\"\n",
    "    print(palabra)\n",
    "\n",
    "imprimir_palabra()\n",
    "\n"
   ]
  },
  {
   "attachments": {},
   "cell_type": "markdown",
   "metadata": {},
   "source": [
    "### funciones con parametros y argumentos"
   ]
  },
  {
   "cell_type": "code",
   "execution_count": 64,
   "metadata": {},
   "outputs": [
    {
     "name": "stdout",
     "output_type": "stream",
     "text": [
      "11\n",
      "45\n"
     ]
    }
   ],
   "source": [
    "def sumar_numeros(numero1,numero2):\n",
    "    sumar = numero1 + numero2\n",
    "    print(sumar)\n",
    "\n",
    "sumar_numeros(5,6)\n",
    "\n",
    "numero1 = int(input(\"ingrese el primer numero\"))\n",
    "numero2 = int(input(\"ingrese el segundo numero\"))\n",
    "\n",
    "sumar_numeros(numero1,numero2)"
   ]
  },
  {
   "attachments": {},
   "cell_type": "markdown",
   "metadata": {},
   "source": [
    "# ↩️  return"
   ]
  },
  {
   "cell_type": "code",
   "execution_count": 80,
   "metadata": {},
   "outputs": [
    {
     "name": "stdout",
     "output_type": "stream",
     "text": [
      "1200\n"
     ]
    }
   ],
   "source": [
    "def cuanto_dinero_queda (presupuesto, gasto_del_mes):\n",
    "    dinero_queda = presupuesto - gasto_del_mes\n",
    "    #print(dinero_queda)\n",
    "    return dinero_queda\n",
    "\n",
    "#cuanto_dinero_queda(1000000,350000)\n",
    "\n",
    "dinero_restante = cuanto_dinero_queda(500,200)\n",
    "#print(dinero_restante)\n",
    "\n",
    "dinero_telebingo = 900\n",
    "dinero_total = dinero_telebingo + cuanto_dinero_queda(500,200)\n",
    "print(dinero_total)"
   ]
  },
  {
   "cell_type": "code",
   "execution_count": 79,
   "metadata": {},
   "outputs": [
    {
     "name": "stdout",
     "output_type": "stream",
     "text": [
      "28\n"
     ]
    }
   ],
   "source": [
    "edad = 23\n",
    "\n",
    "def cambiar_edad():\n",
    "    edad = 28\n",
    "    return edad\n",
    "\n",
    "cambiar_edad()\n",
    "\n",
    "edad = cambiar_edad()\n",
    "print(edad)"
   ]
  },
  {
   "attachments": {},
   "cell_type": "markdown",
   "metadata": {},
   "source": [
    "## Challenge 2 🤺 - 15 min\n",
    "\n",
    "Crear una función que reciba dos letras (parámetros) y que verifique si son iguales:\n",
    "\n",
    "1. Si son iguales, retornar True.\n",
    "\n",
    "2. De lo contrario, retornar False."
   ]
  },
  {
   "cell_type": "code",
   "execution_count": 9,
   "metadata": {},
   "outputs": [
    {
     "data": {
      "text/plain": [
       "True"
      ]
     },
     "execution_count": 9,
     "metadata": {},
     "output_type": "execute_result"
    }
   ],
   "source": [
    "def letra(a,b): # aca estoy definiendo mi funcion que se llama letra \n",
    "\n",
    "    if a == b: # ver si las letras son iguales\n",
    "\n",
    "        return True # si es que la letra es iguales retorno a True\n",
    "    else :\n",
    "        return False # De lo contrario retornar a False\n",
    "\n",
    "letra(\"a\",\"b\") # aca le llamo a mi funcion por su nombre\n",
    "\n",
    "letra(\"a\",\"a\")"
   ]
  },
  {
   "attachments": {},
   "cell_type": "markdown",
   "metadata": {},
   "source": [
    "## Challenge  🤺 - 15m\n",
    "\n",
    "Crear una función que reciba dos parámetros (una palabra y un número), y que devuelva `True` si el número es igual a la cantidad de letras de la palabra. En caso contrario, que devuelva `False`.\n",
    "\n",
    "Pista: `cantidad de letras de una palabra en python se puede obtener con len()`"
   ]
  },
  {
   "cell_type": "code",
   "execution_count": 85,
   "metadata": {},
   "outputs": [
    {
     "data": {
      "text/plain": [
       "False"
      ]
     },
     "execution_count": 85,
     "metadata": {},
     "output_type": "execute_result"
    }
   ],
   "source": [
    "def comparacion(palabra,numero):\n",
    "    cantidad_letra= len(palabra) == numero\n",
    "    if cantidad_letra:\n",
    "        return True\n",
    "    else:\n",
    "        return False\n",
    "comparacion(\"mono\", 2)"
   ]
  },
  {
   "attachments": {},
   "cell_type": "markdown",
   "metadata": {},
   "source": [
    "## Challenge 🤺 - 15 min\n",
    "\n",
    "Crear función que revise si una palabra contiene una letra. En caso de que la contenga, retornar la letra entre corchetes `[]`. De lo contrario, retornar solo la letra.\n",
    "dato = in significa en "
   ]
  },
  {
   "cell_type": "code",
   "execution_count": 94,
   "metadata": {},
   "outputs": [
    {
     "name": "stdout",
     "output_type": "stream",
     "text": [
      "b\n"
     ]
    }
   ],
   "source": [
    "def contiene_una_letra(letra,palabra):\n",
    "    # in es un operador de pertenencia \n",
    "    if letra in palabra:\n",
    "        contiene = f\"[{letra}]\"\n",
    "        contiene = \"[\"+letra+\"]\"\n",
    "        return contiene\n",
    "    else:\n",
    "        no_contiene = letra\n",
    "        return letra\n",
    "respuesta = contiene_una_letra('b','perrito')\n",
    "print(respuesta)"
   ]
  },
  {
   "cell_type": "code",
   "execution_count": 14,
   "metadata": {},
   "outputs": [
    {
     "name": "stdout",
     "output_type": "stream",
     "text": [
      "La palabra es: estresada\n"
     ]
    },
    {
     "data": {
      "text/plain": [
       "'[e]'"
      ]
     },
     "execution_count": 14,
     "metadata": {},
     "output_type": "execute_result"
    }
   ],
   "source": [
    "def contiene (palabra):\n",
    "    for letrae in palabra:\n",
    "        if letrae == \"e\":\n",
    "            return \"[\" + letrae + \"]\"\n",
    "        else:\n",
    "            return letrae\n",
    "palabra_ingresada = input(\"Ingrese una palabra\")\n",
    "print(f\"La palabra es: {palabra_ingresada}\")\n",
    "contiene(palabra_ingresada)"
   ]
  },
  {
   "attachments": {},
   "cell_type": "markdown",
   "metadata": {},
   "source": [
    "# list()"
   ]
  },
  {
   "cell_type": "code",
   "execution_count": 99,
   "metadata": {},
   "outputs": [
    {
     "name": "stdout",
     "output_type": "stream",
     "text": [
      "['p', 'o', 'l', 'l', 'o']\n"
     ]
    }
   ],
   "source": [
    "palabra_a_encontrar = \"pollo\" # siempre puede hacer listas solamente de textos\n",
    "#convertir esta palabra en una lista \n",
    "lista_de_las_letras_a_encontrar = list(palabra_a_encontrar)\n",
    "print(lista_de_las_letras_a_encontrar)"
   ]
  },
  {
   "attachments": {},
   "cell_type": "markdown",
   "metadata": {},
   "source": [
    "## Challenge 5 🤺 - 15m\n",
    "\n",
    "Pedir al usuario que ingrese 1 palabra, luego convertir esa palabra a una lista con sus caracteres con `list()`. Agregar esa lista de caracteres a una lista llamada `palabras_ingresadas`. Repetir el proceso 3 veces. Cada vez que se agregue una lista de caracteres, imprimir la lista `palabras_ingresadas`.\n",
    "\n",
    "Ejemplo del resultado esperado:\n",
    "\n",
    "`[['c', 'i', 'e', 'l', 'o']]` # Al ingresar la primera palabra\n",
    "\n",
    "`[['c', 'i', 'e', 'l', 'o'], ['c', 'a', 'l', 'o', 'r']]` # Al ingresar la segunda palabra\n",
    "\n",
    "`[['c', 'i', 'e', 'l', 'o'], ['c', 'a', 'l', 'o', 'r'], ['n', 'u', 'b', 'e', 's']]` # Al ingresar la tercera palabra\n"
   ]
  },
  {
   "attachments": {},
   "cell_type": "markdown",
   "metadata": {},
   "source": [
    "[    [     ],   [    ],  [     ]  ]"
   ]
  },
  {
   "cell_type": "code",
   "execution_count": 21,
   "metadata": {},
   "outputs": [
    {
     "name": "stdout",
     "output_type": "stream",
     "text": [
      "[['h', 'o', 'l', 'a']]\n",
      "[['h', 'o', 'l', 'a'], ['c', 'o', 'n', 'e', 'j', 'o']]\n",
      "[['h', 'o', 'l', 'a'], ['c', 'o', 'n', 'e', 'j', 'o'], ['m', 'o', 'n', 'o']]\n"
     ]
    }
   ],
   "source": [
    "palabras_ingresadas = []\n",
    "\n",
    "palabra = input(\"ingrese tu primera palabra\")\n",
    "palabra_listada = list(palabra)\n",
    "palabras_ingresadas.append(palabra_listada)\n",
    "print(palabras_ingresadas)\n",
    "\n",
    "palabra2 = input(\"ingrese tu segunda palabra\")\n",
    "palabra_listada2 = list(palabra2)\n",
    "palabras_ingresadas.append(palabra_listada2)\n",
    "print(palabras_ingresadas)\n",
    "\n",
    "\n",
    "palabra3 = input(\"ingrese tu tercera palabra\")\n",
    "palabra_listada3 = list(palabra3)\n",
    "palabras_ingresadas.append(palabra_listada3)\n",
    "print(palabras_ingresadas)\n"
   ]
  },
  {
   "attachments": {},
   "cell_type": "markdown",
   "metadata": {},
   "source": [
    "# Funcion Verificadora\n",
    "\n",
    "- crear una lista vacia 'letras_verificadas' para las letras de la palabra del juego verificada \n",
    "- definir la cantidad de letras de la palabra a encontrar\n",
    "- si las letra existen en la palabra a encontrar y sus posiciones coinciden: encerrar en corchetes ' [] ' y agregar al resultado\n",
    "- si las letras existen en la palabra a encontrar pero sus posiciones no coinciden: encerrar en parentesis ' ( ) ' y agregar al resultado\n",
    "- Si no se cumple ninguna de las anteriores, agregar a la lista vacia sin modificarlo\n",
    "- retornar el resultado"
   ]
  },
  {
   "cell_type": "code",
   "execution_count": 25,
   "metadata": {},
   "outputs": [
    {
     "name": "stdout",
     "output_type": "stream",
     "text": [
      "['n', '[u]', 'b', '(e)', '(s)']\n"
     ]
    }
   ],
   "source": [
    "def obtener_fila_verificada (palabra_a_encontrar, palabra_ingresada):\n",
    "    cantidad_de_letras_de_la_palabra_a_encontrar = 5\n",
    "    # creamos una lista vacia para almacenar el resultado de una linea\n",
    "    letras_verificadas = []\n",
    "    # iteramos por cada letra de la palabra a encontrar\n",
    "    for posicion in range(cantidad_de_letras_de_la_palabra_a_encontrar):\n",
    "        las_letras_son_iguales = palabra_a_encontrar[posicion] == palabra_ingresada[posicion]\n",
    "\n",
    "        la_letra_existe_en_la_palabra = palabra_ingresada[posicion] in palabra_a_encontrar\n",
    "\n",
    "        if las_letras_son_iguales :\n",
    "            #guardar las letras que estan en la palabra a encontrar y coinciden en la posicion dentro de corchetes\n",
    "            letras_verificadas.append('['+palabra_ingresada[posicion]+']')\n",
    "        elif la_letra_existe_en_la_palabra:\n",
    "            #cuando esto pasa, agregamos los parentesis\n",
    "            letras_verificadas.append(\"(\"+palabra_ingresada[posicion]+\")\")\n",
    "        else: \n",
    "            letras_verificadas.append(palabra_ingresada[posicion])\n",
    "    return letras_verificadas\n",
    "\n",
    "linea_verificada = obtener_fila_verificada('queso','nubes')\n",
    "\n",
    "print(linea_verificada)"
   ]
  },
  {
   "attachments": {},
   "cell_type": "markdown",
   "metadata": {},
   "source": [
    "## Challenge 🤺 - 20m\n",
    "\n",
    "Dada la lista de ejemplo:\n",
    "\n",
    "lista = [['h', 'o', 'l', 'i', 's'], ['h', 'e', 'l', 'l', 'o'], ['h', 'a', 'l', 'l', 'o']]\n",
    "\n",
    "Crear una función que imprima una grilla (lista de listas), una línea por cada lista dentro de la lista principal.\n",
    "\n",
    "Ejemplo del resultado esperado:\n",
    "\n",
    "```\n",
    "['h', 'o', 'l', 'i', 's']\n",
    "['h', 'e', 'l', 'l', 'o']\n",
    "['h', 'a', 'l', 'l', 'o']\n",
    "```"
   ]
  },
  {
   "attachments": {},
   "cell_type": "markdown",
   "metadata": {},
   "source": [
    "### ejemplo de como funciona un for paso a paso (NO EJECUTAR PORQUE NO VA SER LOGICO, MEREMENTE TEORIA)"
   ]
  },
  {
   "cell_type": "code",
   "execution_count": null,
   "metadata": {},
   "outputs": [],
   "source": [
    "lista = [['h', 'o', 'l', 'i', 's'], ['h', 'e', 'l', 'l', 'o'], ['h', 'a', 'l', 'l', 'o']]\n",
    "for elemento in lista:\n",
    "    print(elemento)\n",
    "\n",
    "\n",
    "elemento = ['h', 'o', 'l', 'i', 's']\n",
    "print(elemento)\n",
    "elemento = ['h', 'e', 'l', 'l', 'o']\n",
    "print(elemento)\n",
    "elemento = ['h', 'a', 'l', 'l', 'o']\n",
    "print(elemento)\n",
    "\n",
    "\n",
    "for numero in range(4):\n",
    "    print(numero)\n",
    "    suma = numero + 1\n",
    "    print(suma)\n",
    "\n",
    "numero = 0\n",
    "print(numero)\n",
    "suma = numero + 1\n",
    "print(suma)\n",
    "\n",
    "numero= 1\n",
    "print(numero)\n",
    "suma = numero + 1\n",
    "print(suma)\n",
    "\n",
    "numero =2 \n",
    "print(numero)"
   ]
  },
  {
   "attachments": {},
   "cell_type": "markdown",
   "metadata": {},
   "source": [
    "### resolucion del challenge"
   ]
  },
  {
   "cell_type": "code",
   "execution_count": 27,
   "metadata": {},
   "outputs": [
    {
     "name": "stdout",
     "output_type": "stream",
     "text": [
      "['h', 'o', 'l', 'i', 's']\n",
      "['h', 'e', 'l', 'l', 'o']\n",
      "['h', 'a', 'l', 'l', 'o']\n"
     ]
    }
   ],
   "source": [
    "lista = [['h', 'o', 'l', 'i', 's'], ['h', 'e', 'l', 'l', 'o'], ['h', 'a', 'l', 'l', 'o']]\n",
    "\n",
    "def imprimir():\n",
    "    for elemento in lista:\n",
    "        print(elemento)\n",
    "imprimir()"
   ]
  },
  {
   "attachments": {},
   "cell_type": "markdown",
   "metadata": {},
   "source": [
    "# bucle while"
   ]
  },
  {
   "cell_type": "code",
   "execution_count": 32,
   "metadata": {},
   "outputs": [
    {
     "name": "stdout",
     "output_type": "stream",
     "text": [
      " te quedan 6 intentos\n",
      "esto\n",
      " te quedan 5 intentos\n",
      "es\n",
      " te quedan 4 intentos\n",
      "la \n",
      " te quedan 3 intentos\n",
      "prueba\n",
      " te quedan 2 intentos\n",
      "de \n",
      " te quedan 1 intentos\n",
      "intentos\n",
      "Ya no te quedan intentos\n"
     ]
    }
   ],
   "source": [
    "intentos = 6\n",
    "\n",
    "while intentos > 0:\n",
    "    print(f\" te quedan {intentos} intentos\")\n",
    "    palabra = input(\"ingrese una palabra\")\n",
    "    intentos = intentos - 1\n",
    "    print(palabra)\n",
    "\n",
    "print(\"Ya no te quedan intentos\")"
   ]
  },
  {
   "attachments": {},
   "cell_type": "markdown",
   "metadata": {},
   "source": [
    "# Uniendo todo todito, recemos que funcione "
   ]
  },
  {
   "cell_type": "code",
   "execution_count": 35,
   "metadata": {},
   "outputs": [
    {
     "name": "stdout",
     "output_type": "stream",
     "text": [
      "['[c]', '[a]', '[l]', '[o]', 's']\n",
      "vuelva a intentarlo\n",
      "te quedan 5 intentos\n",
      "['[c]', '[a]', '[l]', '[o]', 's']\n",
      "['[c]', '[a]', '[l]', '[o]', '[r]']\n",
      "ganaste!!!\n"
     ]
    }
   ],
   "source": [
    "# resolucion entera\n",
    "\n",
    "#definir cuantas letras va tener la palabra \n",
    "cantidad_de_letras_de_la_palabra_a_encontrar = 5\n",
    "\n",
    "#Definimos nuestra palabra a encontrar, o palabra correcta\n",
    "palabra_a_encontrar = \"calor\"\n",
    "\n",
    "#crear nuestra que va contener otras listas dentro \n",
    "grilla = []\n",
    "\n",
    "#definir nuestra cantidad de intentos\n",
    "intentos = 6\n",
    "#creamos nuestra funcion para verificar las opciones de las palabras\n",
    "def obtener_la_fila_verificada(palabra_a_encontrar, palabra_ingresada):\n",
    "    #creamos la lista que va contener a nuestro resultado de verificar \n",
    "    resultado = []\n",
    "    \n",
    "    # creamos la lista de letras de la palabra a encontrar\n",
    "    letras_de_la_palabra_a_encontrar = list(palabra_a_encontrar)\n",
    "\n",
    "    #creamos la lista de las letras de la palabra ingresada\n",
    "    letras_de_la_palabra_ingresada = list(palabra_ingresada)\n",
    "    for posicion_de_la_letra in range(cantidad_de_letras_de_la_palabra_a_encontrar):\n",
    "        #verificamos si las letras en la misma posicion son iguales\n",
    "        las_letras_son_iguales = letras_de_la_palabra_a_encontrar[posicion_de_la_letra] == letras_de_la_palabra_ingresada[posicion_de_la_letra]\n",
    "\n",
    "        la_letra_existe_en_la_palabra = letras_de_la_palabra_ingresada[posicion_de_la_letra] in palabra_a_encontrar\n",
    "\n",
    "        if las_letras_son_iguales:\n",
    "            #guardar las letras que estan en la palabra a encontrar y coinciden en la posicion, entre []\n",
    "            letra_modificada = '['+ letras_de_la_palabra_ingresada[posicion_de_la_letra]+']'\n",
    "            resultado.append(letra_modificada)\n",
    "        elif la_letra_existe_en_la_palabra:\n",
    "\n",
    "            letra_modificada= '('+ letras_de_la_palabra_ingresada[posicion_de_la_letra]+')'\n",
    "            resultado.append(letra_modificada)\n",
    "        else:\n",
    "            resultado.append(letras_de_la_palabra_ingresada[posicion_de_la_letra])\n",
    "    return resultado\n",
    "\n",
    "# creamos la funcion para imprimir grillas\n",
    "def imprimir_grillas(grilla):\n",
    "    cantidad_de_filas = len(grilla)\n",
    "    for fila in range(cantidad_de_filas):\n",
    "        print(grilla[fila])\n",
    "#iniciamos nuestro juego\n",
    "while intentos >0:\n",
    "    intentos = intentos-1\n",
    "\n",
    "    palabra_ingresada = input(\"ingrese su respuesta:\")\n",
    "    letras_existe_en_la_palabra = list(palabra_a_encontrar)\n",
    "    letras_de_la_palabra_ingresada = list(palabra_ingresada)\n",
    "\n",
    "    if len(palabra_ingresada) != cantidad_de_letras_de_la_palabra_a_encontrar:\n",
    "        print(\"no tiene la misma cantidad de letras que la palabra correcta\")\n",
    "        print(f\"proba con una palabra con {cantidad_de_letras_de_la_palabra_a_encontrar} letras\")\n",
    "    else:\n",
    "        linea_verificada = obtener_la_fila_verificada(palabra_a_encontrar,palabra_ingresada)\n",
    "        grilla.append(linea_verificada)\n",
    "    imprimir_grillas(grilla)\n",
    "    if palabra_ingresada != palabra_a_encontrar:\n",
    "        print(\"vuelva a intentarlo\")\n",
    "        print(f\"te quedan {intentos} intentos\")\n",
    "    else:\n",
    "        print(\"ganaste!!!\")\n",
    "        break"
   ]
  },
  {
   "cell_type": "code",
   "execution_count": null,
   "metadata": {},
   "outputs": [],
   "source": []
  }
 ],
 "metadata": {
  "kernelspec": {
   "display_name": "Python 3",
   "language": "python",
   "name": "python3"
  },
  "language_info": {
   "codemirror_mode": {
    "name": "ipython",
    "version": 3
   },
   "file_extension": ".py",
   "mimetype": "text/x-python",
   "name": "python",
   "nbconvert_exporter": "python",
   "pygments_lexer": "ipython3",
   "version": "3.10.6"
  },
  "orig_nbformat": 4,
  "vscode": {
   "interpreter": {
    "hash": "916dbcbb3f70747c44a77c7bcd40155683ae19c65e1c03b4aa3499c5328201f1"
   }
  }
 },
 "nbformat": 4,
 "nbformat_minor": 2
}
