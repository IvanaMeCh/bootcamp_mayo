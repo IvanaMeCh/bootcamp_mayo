{
 "cells": [
  {
   "attachments": {},
   "cell_type": "markdown",
   "metadata": {},
   "source": [
    "# Diccionarios"
   ]
  },
  {
   "cell_type": "code",
   "execution_count": 15,
   "metadata": {},
   "outputs": [
    {
     "name": "stdout",
     "output_type": "stream",
     "text": [
      "<class 'dict'>\n",
      "consul\n",
      "{'cafetera': 'midas', 'heladera': 'consul', 'cafetera1': 'nescafe', 'microondas': 'electrolux'}\n",
      "{'cafetera': 'midas', 'heladera': 'consul', 'cafetera1': 'nescafe'}\n",
      "{'cafetera': 'midas', 'cafetera1': 'nescafe'}\n",
      "{'cafetera': 'midas', 'cafetera1': 'nescafe', 'mixtera': 'tokyo'}\n"
     ]
    }
   ],
   "source": [
    "# sintaxis del diccionario\n",
    "\n",
    "mi_cocina = {}\n",
    "# solamente podemos tener 1 nombre de la clave, sino python reasigna y solo muestra el ultimo\n",
    "mi_cocina = { \"cafetera\":\"midas\", \"heladera\":\"consul\", \"cafetera1\":\"tokyo\", \"microondas\":\"electrolux\"}\n",
    "# print(mi_cocina)\n",
    "print(type(mi_cocina))\n",
    "\n",
    "#accedemos al elemento de un diccionario\n",
    "print(mi_cocina[\"heladera\"])\n",
    "\n",
    "# reasignar o actualizar el valor de mi diccionario\n",
    "mi_cocina[\"cafetera1\"] = \"nescafe\"\n",
    "print(mi_cocina)\n",
    "\n",
    "# elminiar el ultimo par de datos, en este caso seria cafetera1\n",
    "mi_cocina.popitem()\n",
    "print(mi_cocina)\n",
    "\n",
    "# eliminar por medio de la clave\n",
    "del mi_cocina[\"heladera\"]\n",
    "print(mi_cocina)\n",
    "\n",
    "# agregamos un nuevo par de datos a nuestro diccionario\n",
    "mi_cocina[\"mixtera\"] = 'tokyo'\n",
    "print(mi_cocina)\n"
   ]
  },
  {
   "cell_type": "code",
   "execution_count": 23,
   "metadata": {},
   "outputs": [
    {
     "name": "stdout",
     "output_type": "stream",
     "text": [
      "{'nombre': 'sofia', 'apellido': 'silva', 'apellido2': 'Gimenez', 'email': 'sofi@penguin', 'telefono': '0972123456', 'direccion': 'Barrio San Jose'}\n",
      "{'nombre': 'sofia', 'apellido': 'silva', 'apellido2': 'Gimenez', 'email': 'sofi@penguin', 'telefono': '0972123456', 'direccion': 'Barrio San Lucas'}\n",
      "{'nombre': 'sofia', 'apellido': 'silva', 'apellido2': 'Gimenez', 'email': 'sofi@penguin', 'telefono': '0972123456', 'direccion': 'Barrio San Lucas', 'edad': 19}\n"
     ]
    }
   ],
   "source": [
    "mi_contacto = { \"nombre\":\"sofia\", \"apellido\":\"silva\", \"apellido2\":\"Gimenez\", \"email\":\"sofi@penguin\",\"telefono\":\"0972123456\",\"direccion\":\"Barrio San Jose\"}\n",
    "\n",
    "{\n",
    "    \"nombre\":\"sofia\",\n",
    "    \"apellido\":\"silva\",\n",
    "    \"email\":\"sofi@penguin\",\n",
    "    \"telefono\":\"0972123456\",\n",
    "    \"direccion\":\"Barrio San Jose\"\n",
    "}\n",
    "\n",
    "print(mi_contacto)\n",
    "mi_contacto[\"direccion\"] = \"Barrio San Lucas\"\n",
    "print(mi_contacto)\n",
    "mi_contacto[\"edad\"] = 19\n",
    "print(mi_contacto)"
   ]
  },
  {
   "cell_type": "code",
   "execution_count": 26,
   "metadata": {},
   "outputs": [
    {
     "name": "stdout",
     "output_type": "stream",
     "text": [
      "dict_keys(['nombre', 'apellido', 'apellido2', 'email', 'telefono', 'direccion', 'edad'])\n",
      "dict_values(['sofia', 'silva', 'Gimenez', 'sofi@penguin', '0972123456', 'Barrio San Lucas', 19])\n",
      "dict_items([('nombre', 'sofia'), ('apellido', 'silva'), ('apellido2', 'Gimenez'), ('email', 'sofi@penguin'), ('telefono', '0972123456'), ('direccion', 'Barrio San Lucas'), ('edad', 19)])\n"
     ]
    }
   ],
   "source": [
    "# Desplegar datos del diccionario \n",
    "print(mi_contacto.keys()) # muestra las claves del diccionario\n",
    "print(mi_contacto.values()) # muestra los valores del diccionario\n",
    "print(mi_contacto.items()) # nos muestra la clave y el valor de un diccionario\n"
   ]
  },
  {
   "attachments": {},
   "cell_type": "markdown",
   "metadata": {},
   "source": [
    "### repasito y comparacion"
   ]
  },
  {
   "cell_type": "code",
   "execution_count": 31,
   "metadata": {},
   "outputs": [
    {
     "name": "stdout",
     "output_type": "stream",
     "text": [
      "['zanahoria', 'leche', 'pan', 'frutas', 'lechuga', 'manzana']\n",
      "{'nombre': 'sofia', 'apellido': 'silva', 'apellido2': 'Gimenez', 'telefono': '0972123456', 'direccion': 'Barrio San Jose'}\n",
      "{'apellido': 'silva', 'apellido2': 'Gimenez', 'telefono': '0972123456', 'direccion': 'Barrio San Jose'}\n"
     ]
    }
   ],
   "source": [
    "lista_de_super = [\"zanahoria\",\"leche\",\"pan\",\"frutas\",'lechuga']\n",
    "# metodos\n",
    "lista_de_super.append(\"manzana\")\n",
    "print(lista_de_super)\n",
    "\n",
    "mi_contacto = { \"nombre\":\"sofia\", \"apellido\":\"silva\", \"apellido2\":\"Gimenez\", \"email\":\"sofi@penguin\",\"telefono\":\"0972123456\",\"direccion\":\"Barrio San Jose\"}\n",
    "mi_contacto.pop('email')\n",
    "print(mi_contacto)\n",
    "\n",
    "del mi_contacto[\"nombre\"]\n",
    "print(mi_contacto)\n",
    "\n"
   ]
  },
  {
   "attachments": {},
   "cell_type": "markdown",
   "metadata": {},
   "source": [
    "## Challenge 1 - 15 min🤺\n",
    "Escribir un programa que cree un diccionario vacío y lo vaya llenado con información sobre una persona (por ejemplo nombre, edad, sexo, teléfono, correo electrónico, etc.) que se le pida al usuario. Cada vez que se añada un nuevo dato debe imprimirse el contenido del diccionario."
   ]
  },
  {
   "cell_type": "code",
   "execution_count": 32,
   "metadata": {},
   "outputs": [
    {
     "name": "stdout",
     "output_type": "stream",
     "text": [
      "{'nombre': 'sofi'}\n"
     ]
    }
   ],
   "source": [
    "# creamos nuestro diccionario vacio\n",
    "datos = {}\n",
    "ingresar_datos = input (\"Desea ingresar datos ? escriba si/no\")\n",
    "\n",
    "while ingresar_datos != \"no\":\n",
    "    clave = input(\" que dato quiere introducir\")\n",
    "    valor = input(\"ingrese su valor\")\n",
    "    datos[clave] = valor\n",
    "    print(datos)\n",
    "    ingresar_datos = input(\"desea ingresar datos? escriba si/no\")\n",
    "\n"
   ]
  },
  {
   "cell_type": "code",
   "execution_count": 35,
   "metadata": {},
   "outputs": [
    {
     "name": "stdout",
     "output_type": "stream",
     "text": [
      "{'nombre': 'sofi'}\n",
      "{'nombre': 'sofi', 'apellido': 'silva'}\n"
     ]
    }
   ],
   "source": [
    "datos = {}\n",
    "ingresar_datos = input (\"Desea ingresar datos ? escriba si/no\")\n",
    "\n",
    "while ingresar_datos == \"si\":\n",
    "    clave = input(\" que dato quiere introducir\")\n",
    "    valor = input(\"ingrese su valor\")\n",
    "    datos[clave] = valor\n",
    "    print(datos)\n",
    "    ingresar_datos = input(\"desea ingresar datos? escriba si/no\")"
   ]
  },
  {
   "cell_type": "code",
   "execution_count": 36,
   "metadata": {},
   "outputs": [
    {
     "name": "stdout",
     "output_type": "stream",
     "text": [
      "{'nombre': 'sofi'}\n",
      "{'nombre': 'sofi', 'apellido': 'silva'}\n"
     ]
    }
   ],
   "source": [
    "datos = {}\n",
    "\n",
    "while True:\n",
    "    clave = input(\" que dato quiere introducir\")\n",
    "    valor = input(\"ingrese su valor\")\n",
    "    datos[clave] = valor\n",
    "    print(datos)\n",
    "    ingresar_datos = input(\"desea ingresar datos? escriba si/no\")\n",
    "    if ingresar_datos == 'no':\n",
    "        break\n",
    "\n",
    "    "
   ]
  },
  {
   "attachments": {},
   "cell_type": "markdown",
   "metadata": {},
   "source": [
    "## Challenge 2 - 15 min🤺\n",
    "\n",
    "Dado este diccionario:\n",
    "tarjeta_personal = {\"nombre\": \"Juan Perez\"} \n",
    "\n",
    "Crear una tarjeta personal. El usuario (mediante input) puede elegir:\n",
    "\n",
    "1. Crear datos nuevos\n",
    "2. Modificar datos\n",
    "3. Eliminar datos"
   ]
  },
  {
   "cell_type": "code",
   "execution_count": 3,
   "metadata": {},
   "outputs": [
    {
     "name": "stdout",
     "output_type": "stream",
     "text": [
      "elegir opcion: 1- introducir datos 2- modificar datos 3- eliminar datos o presionar cualquier numero para salir\n",
      "{'nombre': 'ivana'}\n",
      "elegir opcion: 1- introducir datos 2- modificar datos 3- eliminar datos o presionar cualquier numero para salir\n",
      "{'nombre': 'ivana', 'apellido': 'mellone'}\n",
      "elegir opcion: 1- introducir datos 2- modificar datos 3- eliminar datos o presionar cualquier numero para salir\n",
      "{'nombre': 'ivana', 'apellido': 'Chamorro'}\n",
      "elegir opcion: 1- introducir datos 2- modificar datos 3- eliminar datos o presionar cualquier numero para salir\n"
     ]
    }
   ],
   "source": [
    "tarjeta_personal = {} #cuando es buleano siempre se una True o False seguido de : (tambien sirve para las condicionales)\n",
    "\n",
    "while True:\n",
    "    print(\"elegir opcion: 1- introducir datos 2- modificar datos 3- eliminar datos o presionar cualquier numero para salir\")\n",
    "    opciones = int (input(\"introducir opcion\"))\n",
    "    if opciones == 1:\n",
    "        clave = input(\"introducir datos\")\n",
    "        valor = input(clave +\":\")\n",
    "        tarjeta_personal[clave] = valor\n",
    "        print(tarjeta_personal)\n",
    "    elif opciones == 2:\n",
    "        clave = input(\"modificar datos\")\n",
    "        valor = input(clave +\":\")\n",
    "        tarjeta_personal[clave] = valor\n",
    "        print(tarjeta_personal)\n",
    "    elif opciones == 3:\n",
    "        clave = input(\"eliminar datos\")\n",
    "        del tarjeta_personal[clave] \n",
    "        print(tarjeta_personal)\n",
    "        break\n",
    "    else:\n",
    "        break"
   ]
  },
  {
   "attachments": {},
   "cell_type": "markdown",
   "metadata": {},
   "source": [
    "## Challenge 3 🤺\n",
    "Crear una agenda de contactos. El usuario puede elegir:\n",
    "\n",
    "1. Mostrar los contactos\n",
    "2. Crear contacto\n",
    "3. Modificar datos del contacto"
   ]
  },
  {
   "cell_type": "code",
   "execution_count": null,
   "metadata": {},
   "outputs": [],
   "source": []
  },
  {
   "attachments": {},
   "cell_type": "markdown",
   "metadata": {},
   "source": [
    "## Solucion de Gissela"
   ]
  },
  {
   "cell_type": "code",
   "execution_count": null,
   "metadata": {},
   "outputs": [],
   "source": []
  },
  {
   "cell_type": "code",
   "execution_count": 4,
   "metadata": {},
   "outputs": [
    {
     "name": "stdout",
     "output_type": "stream",
     "text": [
      "{'nombre': 'gissela', 'apellido': 'rojas', 'correo': 'gissela@gmail', 'telefono': '0975123456', 'direccion': 'maria auxiliadora'}\n",
      "{'nombre': 'gissela', 'apellido': 'rojas', 'correo': 'gissela@gmail', 'telefono': '0975123456', 'direccion': 'maria auxiliadora', 'estado': 'soltera'}\n",
      "{'nombre': 'gissela', 'apellido': 'rojas', 'correo': 'gissela@gmail', 'telefono': '0975123456', 'direccion': 'maria auxiliadora', 'estado': 'soltera'}\n",
      "{'nombre': 'gissela', 'apellido': 'rojas', 'correo': 'gissela@gmail', 'telefono': '0975123456', 'direccion': 'maria auxiliadora', 'estado': 'casada'}\n"
     ]
    }
   ],
   "source": [
    "agenda_de_contactos = {\"nombre\": \"gissela\", \"apellido\": \"rojas\", \"correo\": \"gissela@gmail\", \"telefono\": \"0975123456\", \"direccion\": \"maria auxiliadora\"}\n",
    "\n",
    "while True: \n",
    "    opcion = input (\"Elige una de las opciones. Ingrese 1 si quiere mostrar los contactos, 2 si desea crear un contacto y 3 si desea modificar un contacto\")\n",
    "    if opcion == \"1\":\n",
    "        print(agenda_de_contactos)\n",
    "\n",
    "    elif opcion == \"2\":\n",
    "        ingrese_clave = input (\"Agregue el titulo deseado\")\n",
    "        ingrese_valor = input (\"Ingrese la información\")\n",
    "        agenda_de_contactos[ingrese_clave] = ingrese_valor\n",
    "        print(agenda_de_contactos)\n",
    "\n",
    "    elif opcion == \"3\":\n",
    "        print(agenda_de_contactos)\n",
    "        clave_modificar = input (\"Cual clave desea modificar?\")\n",
    "        valor_modificar = input (\"Ingrese el valor a agregar a su clave\")\n",
    "        agenda_de_contactos[clave_modificar] = valor_modificar\n",
    "        print(agenda_de_contactos)\n",
    "        \n",
    "    else:\n",
    "        break"
   ]
  },
  {
   "attachments": {},
   "cell_type": "markdown",
   "metadata": {},
   "source": [
    "## Programacion orientada a objetos "
   ]
  },
  {
   "cell_type": "code",
   "execution_count": 12,
   "metadata": {},
   "outputs": [
    {
     "name": "stdout",
     "output_type": "stream",
     "text": [
      " Hola soy michita una mascota de raza siames y soy de color marron\n",
      "marron\n",
      "2\n",
      " Hola soy pupi una mascota de raza delmer y soy de color marron\n",
      "True\n",
      "marron\n"
     ]
    }
   ],
   "source": [
    "class Mascota :\n",
    "    ojos = 2 #atributos de clase   #atributo general, que van a compartir todas las mascotas\n",
    "    bigotes = True #atributos de clase \n",
    "    boca = 1\n",
    "\n",
    "    #metodo constructor y ese metodo se llama __init__\n",
    "    def __init__ (self, nombre, raza, color):\n",
    "        # esto inicializa la clase y le asignamos atributos de instancia\n",
    "        self.nombre = nombre # atributo de instancia, es el que es distinto para cada mascota o seria el que es propio de cada uno\n",
    "        self.raza = raza\n",
    "        self.color = color\n",
    "        print(f' Hola soy {self.nombre} una mascota de raza {self.raza} y soy de color {self.color}')\n",
    "        \n",
    "#creo mi objeto (mi_gato) y cargo todos sus atributos gracias a la clase\n",
    "mi_gato = Mascota('michita','siames','marron')\n",
    "print(mi_gato.color)\n",
    "print(mi_gato.ojos)\n",
    "\n",
    "perrito = Mascota('pupi','delmer','marron')\n",
    "print(perrito.bigotes)\n",
    "print(perrito.color)\n"
   ]
  },
  {
   "cell_type": "code",
   "execution_count": 23,
   "metadata": {},
   "outputs": [
    {
     "name": "stdout",
     "output_type": "stream",
     "text": [
      "djidsjfs\n",
      "False\n",
      "2\n",
      "True\n",
      "verde\n"
     ]
    }
   ],
   "source": [
    "class Aves:\n",
    "    pico = True\n",
    "    alas = True\n",
    "    brazos = False\n",
    "    ojos = 2\n",
    "    patas = 2\n",
    "    plumas = \"si\"\n",
    "    def __init__(self,nombre,color):\n",
    "        self.nombre = nombre\n",
    "        self.color = color\n",
    "\n",
    "color = input(\"ingrese color\")\n",
    "mi_avechui = Aves(\"pollito\",color)\n",
    "\n",
    "lorito = Aves(\"pancho\",\"verde\")\n",
    "\n",
    "print(mi_avechui.color)\n",
    "print(mi_avechui.brazos)\n",
    "print(mi_avechui.patas)\n",
    "\n",
    "\n",
    "print(lorito.alas)\n",
    "print(lorito.color)"
   ]
  },
  {
   "attachments": {},
   "cell_type": "markdown",
   "metadata": {},
   "source": [
    "## Challenge - 15 min 🤺\n",
    "\n",
    "Crear dos class de animales que tengan atributos de **clase** y de **instancia**.\n",
    "\n",
    "- Atributos de clase: especie.\n",
    "- Atributos de instancia: nombre & color.\\\n",
    "Luego, crear nuevos objetos a partir de las nuevas class. Imprimir el nombre y el color de los animales en una frase que diga: \"Me llamo {nombre} y soy un {especie} de color {color}\"."
   ]
  },
  {
   "cell_type": "code",
   "execution_count": 25,
   "metadata": {},
   "outputs": [
    {
     "name": "stdout",
     "output_type": "stream",
     "text": [
      " Hola soy michifus soy un  felino y soy de color gris\n",
      "me llamo michifus soy un felino de color gris\n",
      "me llamo pepe soy un anfibio de color verde\n"
     ]
    }
   ],
   "source": [
    "class Gato: \n",
    "    especie = \"felino\"\n",
    "\n",
    "    def __init__(self,nombre,color):\n",
    "        self.nombre = nombre\n",
    "        self.color = color\n",
    "        # print(f' Hola soy {self.nombre} soy un  {self.especie} y soy de color {self.color}')\n",
    "\n",
    "gato1 = Gato(\"michifus\",\"gris\")\n",
    "\n",
    "class Rana:\n",
    "    especie = \"anfibio\"\n",
    "\n",
    "    def __init__(self, nombre, color):\n",
    "        self.nombre = nombre\n",
    "        self.color = color\n",
    "\n",
    "rana1 = Rana (\"pepe\",\"verde\")\n",
    "\n",
    "print(f\"me llamo {gato1.nombre} soy un {gato1.especie} de color {gato1.color}\")\n",
    "print(f\"me llamo {rana1.nombre} soy un {rana1.especie} de color {rana1.color}\")"
   ]
  },
  {
   "attachments": {},
   "cell_type": "markdown",
   "metadata": {},
   "source": [
    "# 🏃🏻‍♂️🏃🏻‍♀️ Definiendo métodos"
   ]
  },
  {
   "cell_type": "code",
   "execution_count": 28,
   "metadata": {},
   "outputs": [
    {
     "name": "stdout",
     "output_type": "stream",
     "text": [
      " Hola soy Lola \n",
      " duermo  4 horas zZZZzzzzzZZ\n",
      "comi 3 kg de purina\n"
     ]
    }
   ],
   "source": [
    "class Mascota :\n",
    "    ojos = 2\n",
    "    def __init__ (self,nombre):\n",
    "        self.nombre = nombre\n",
    "        print(f' Hola soy {self.nombre} ')\n",
    "        \n",
    "\n",
    "    def correr(self):\n",
    "        print(\"estoy corriendo\")\n",
    "\n",
    "    def dormir(self, horas):\n",
    "        print(f\" duermo  {horas} horas zZZZzzzzzZZ\")\n",
    "    \n",
    "    def comer(self, kg_de_comida, comida):\n",
    "        print(f\"comi { kg_de_comida} kg de {comida}\")\n",
    "\n",
    "mi_mascotita = Mascota(\"Lola\")\n",
    "mi_mascotita.dormir(4)\n",
    "mi_mascotita.comer(3,\"purina\")\n"
   ]
  },
  {
   "attachments": {},
   "cell_type": "markdown",
   "metadata": {},
   "source": [
    "## Challenge - 15 m 🤺\n",
    "Crear un método por animal, que sea hablar o moverse.\n",
    "\n",
    "En el método hablar, imprimir: \"Cuando hablo, digo X\".\n",
    "En el método mover, imprimir: \"Cuando me muevo, hago X\".\n",
    "\n",
    "X debe ser algo específico de ese animal"
   ]
  },
  {
   "cell_type": "code",
   "execution_count": 30,
   "metadata": {},
   "outputs": [
    {
     "name": "stdout",
     "output_type": "stream",
     "text": [
      "cuando hablo digo buuufffff\n",
      "cuando hablo digo  guau guau\n"
     ]
    }
   ],
   "source": [
    "class Animal:\n",
    "    especie = \"mamifero\"\n",
    "    def __init__(self, nombre):\n",
    "        self.nombre=nombre\n",
    "    def hablar(self,habla):\n",
    "        print(f\"cuando hablo digo {habla}\")\n",
    "\n",
    "elefante = Animal(\"trompita\")\n",
    "elefante.hablar(\"buuufffff\")\n",
    "\n",
    "perro = Animal(\"dorito\")\n",
    "perro.hablar(\" guau guau\")"
   ]
  },
  {
   "attachments": {},
   "cell_type": "markdown",
   "metadata": {},
   "source": [
    "\n",
    "# Herencia"
   ]
  },
  {
   "cell_type": "code",
   "execution_count": 37,
   "metadata": {},
   "outputs": [
    {
     "name": "stdout",
     "output_type": "stream",
     "text": [
      "tss\n",
      "hola soy un reptil\n",
      "reptil sangre fria\n",
      "hola soy un reptil\n",
      "estoy arrastrandome\n",
      "ya muerete\n"
     ]
    }
   ],
   "source": [
    "class Reptil:\n",
    "    tipo = \"reptil sangre fria\"\n",
    "    def __init__(self, color,sonido):\n",
    "        self.color = color \n",
    "        self.sonido = sonido\n",
    "    def hablar(self):\n",
    "        print(\"hola soy un reptil\")\n",
    "\n",
    "class Serpiente(Reptil):\n",
    "    huevos = True\n",
    "\n",
    "    def arrastrse (self):\n",
    "        print(\"estoy arrastrandome\")\n",
    "\n",
    "class Venenosas (Serpiente):\n",
    "    def mordedura (self):\n",
    "        print(\"ya muerete\")\n",
    "\n",
    "\n",
    "#crear nuestra serpiente\n",
    "mi_reptil = Reptil(\"verde\",\"tss\")\n",
    "print(mi_reptil.sonido)\n",
    "\n",
    "mi_serpiente = Serpiente(\"azul\",\"zzzzzzzz\")\n",
    "mi_serpiente.hablar()\n",
    "print(mi_serpiente.tipo)\n",
    "\n",
    "serpi = Venenosas(\"amarillo\",'ptssss')\n",
    "serpi.hablar()\n",
    "serpi.arrastrse()\n",
    "serpi.mordedura()"
   ]
  }
 ],
 "metadata": {
  "kernelspec": {
   "display_name": "Python 3",
   "language": "python",
   "name": "python3"
  },
  "language_info": {
   "codemirror_mode": {
    "name": "ipython",
    "version": 3
   },
   "file_extension": ".py",
   "mimetype": "text/x-python",
   "name": "python",
   "nbconvert_exporter": "python",
   "pygments_lexer": "ipython3",
   "version": "3.10.6"
  },
  "orig_nbformat": 4,
  "vscode": {
   "interpreter": {
    "hash": "916dbcbb3f70747c44a77c7bcd40155683ae19c65e1c03b4aa3499c5328201f1"
   }
  }
 },
 "nbformat": 4,
 "nbformat_minor": 2
}
